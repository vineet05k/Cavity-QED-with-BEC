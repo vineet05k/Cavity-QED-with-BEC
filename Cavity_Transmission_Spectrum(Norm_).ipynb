{
  "nbformat": 4,
  "nbformat_minor": 0,
  "metadata": {
    "colab": {
      "name": "Cavity Transmission Spectrum(Norm.)",
      "provenance": [],
      "collapsed_sections": []
    },
    "kernelspec": {
      "name": "python3",
      "display_name": "Python 3"
    },
    "language_info": {
      "name": "python"
    }
  },
  "cells": [
    {
      "cell_type": "markdown",
      "source": [
        "# **CQED**\n",
        "```\n",
        "\n",
        "```\n",
        "*Normalized Cavity Transmission Spectrum*\n",
        "---\n",
        "01 Jun 2022"
      ],
      "metadata": {
        "id": "jvhRis-D4jgN"
      }
    },
    {
      "cell_type": "code",
      "source": [
        "'''\n",
        "   To import the different related libraries//\n",
        "'''\n",
        "import numpy as np\n",
        "import matplotlib.pyplot as plt\n",
        "from IPython.display import Markdown, display\n",
        "from matplotlib.ticker import AutoMinorLocator\n"
      ],
      "metadata": {
        "id": "MTRxjF9S45XB"
      },
      "execution_count": null,
      "outputs": []
    },
    {
      "cell_type": "markdown",
      "source": [
        "# *Jaynes-Cummings (JC) Hamiltonian*\n",
        "\\begin{equation}\n",
        "H = \\underbrace{\\hbar\\omega_a\\sigma^+\\sigma^-}_{=H_a} + \\underbrace{\\hbar\\omega_ca^†a}_{=H_c} +\\underbrace{(- g\\hbar(\\sigma^+a+  a^\\dagger\\sigma^-))}_{=H_I} = H_a + H_c + H_I\n",
        "\\end{equation}\n",
        "\n",
        "$H_a$ is the Hamiltonian for bare atom.\n",
        "\n",
        "$H_c$ is the Hamiltonian for cavity containing $n$ photons having energy $\\hbar\\omega_c$.\n",
        "\n",
        "$H_I$ is the interaction Hamiltonian.\n",
        "\n",
        "---\n",
        "> Non-hermitian JC Hamiltonian:\n",
        "\\begin{equation}\n",
        "H = \\hbar\\omega_a\\sigma^+\\sigma^- + \\hbar\\omega_ca^†a - g\\hbar(\\sigma^+a+  a^\\dagger\\sigma^-) -i\\hbar\\gamma\\sigma^+\\sigma^--i\\hbar\\kappa a^\\dagger a-i\\hbar\\eta(ae^{+i\\omega_p t}+a^\\dagger e^{-i\\omega_p t})\n",
        "\\end{equation}\n",
        "Non-hermitian JC Hamiltonian in rotating frame at probe frequency:\n",
        "> \\begin{equation}\n",
        "H = \\hbar\\Delta_{ap}\\sigma^+\\sigma^- + \\hbar\\Delta_{cp}a^†a - g\\hbar(\\sigma^+a+  a^\\dagger\\sigma^-) -i\\hbar\\gamma\\sigma^+\\sigma^--i\\hbar\\kappa a^\\dagger a-i\\hbar\\eta(a+a^\\dagger)\n",
        "\\end{equation}\n",
        "$\\Delta_{ap}=\\omega_a-\\omega_p$ and $\\Delta_{cp}=\\omega_c-\\omega_p$.\n",
        "\n",
        "---\n",
        "Normalized cavity transmission spectrum:\n",
        "\\begin{equation}\n",
        "\\frac{T}{T_0} = \\bigg(\\frac{\\kappa}{\\eta}\\bigg)^2\\langle n\\rangle=\\frac{\\kappa^2(\\Delta_{ap}^2+\\gamma^2)}{(\\Delta_{cp}\\gamma+\\Delta_{ap}\\kappa)^2+(g^2+\\gamma\\kappa-\\Delta_{ap}\\Delta_{cp})^2}\n",
        "\\end{equation}\n",
        "\n",
        "The mean number of photons at resonance condition $(\\Delta_{ap}=\\Delta_{cp}=0)$ in empty cavity $(g=0)$ is $T_0 = \\big(\\frac{\\eta}{\\kappa}\\big)^2$."
      ],
      "metadata": {
        "id": "svtxomlC8shH"
      }
    },
    {
      "cell_type": "code",
      "source": [
        "''' Input parameters '''\n",
        "cav_spec_array = []; # Vector initialization//\n",
        "delta_ap = np.linspace(-70, 70, 200); '''probe-atom detuning (in MHz)'''; delta_ca = 0; delta_cp = delta_ap + delta_ca;\n",
        "g_list = {0, 34}; kappa = 5; gamma = 4; # All are in MHz units//\n",
        "\n",
        "for i in g_list:\n",
        "  def cav_spec(g, kappa, gamma, delta_ap, delta_cp):\n",
        "    return ((kappa**2*(delta_ap**2 + gamma**2))/((delta_cp*gamma + delta_ap*kappa)**2 + (g**2 + gamma*kappa - delta_ap*delta_cp)**2));\n",
        "  cav_spec_values = cav_spec(i, kappa, gamma, delta_ap, delta_cp);\n",
        "  cav_spec_array.append(cav_spec_values)\n"
      ],
      "metadata": {
        "id": "7nVPoUU7dize"
      },
      "execution_count": null,
      "outputs": []
    },
    {
      "cell_type": "code",
      "source": [
        "'''\n",
        "    Plotting//\n",
        "'''\n",
        "fig, ax = plt.subplots(figsize = (4, 4));  \n",
        "ax.plot(delta_ap, cav_spec_array[0], 'b-.', label = r'$g=0$', linewidth = 2.0);\n",
        "ax.plot(delta_ap, cav_spec_array[1], 'r-.', label = r'$g\\neq0$', linewidth = 2.0); \n",
        "plt.axvline(x = 0.0, ymin = 0.0, ymax = 1, linewidth = 1.0, color='k', linestyle = '-.');\n",
        "ax.set_xlabel(r'$\\frac{\\Delta_{ap}}{2\\pi}(MHz)$', fontsize = 14); ax.set_ylabel(r'$Norm. Transmission$', fontsize = 12); # Axis labelling//\n",
        "ax.tick_params(which = \"both\", axis = \"x\", direction =\"in\", bottom = True, \n",
        "               top = True); ax.tick_params(which = \"both\", axis = \"y\", direction = \"in\", left = True, right = True); # x-axis and y-axis ticks for \n",
        "               # both major and minor and on left(right) and up(down)//\n",
        "start_x, end_x = ax.set_xlim(delta_ap[0], delta_ap[len(delta_ap) - 1]); #start_y, end_y = ax.set_ylim(0, 1); # x-axis and y-axis limiting//\n",
        "ax.xaxis.set_minor_locator(AutoMinorLocator()); ax.yaxis.set_minor_locator(AutoMinorLocator()); \n",
        "ax.legend(loc='upper right', prop={\"size\":12});\n"
      ],
      "metadata": {
        "colab": {
          "base_uri": "https://localhost:8080/",
          "height": 293
        },
        "id": "NbcQsxBaxcaz",
        "outputId": "775cf452-e88e-456c-cb22-4a2895cd8484"
      },
      "execution_count": null,
      "outputs": [
        {
          "output_type": "display_data",
          "data": {
            "text/plain": [
              "<Figure size 288x288 with 1 Axes>"
            ],
            "image/png": "[encoded data removed]"
          },
          "metadata": {
            "needs_background": "light"
          }
        }
      ]
    }
  ]
}
